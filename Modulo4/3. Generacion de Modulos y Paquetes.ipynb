{
 "cells": [
  {
   "cell_type": "markdown",
   "metadata": {},
   "source": [
    "# Generación de Módulos"
   ]
  },
  {
   "cell_type": "markdown",
   "metadata": {},
   "source": [
    "<img src=https://3.bp.blogspot.com/-LSDB9uldh4k/XEvKWoSFTMI/AAAAAAAAHl4/izzGuCNN_OY_wWIOiw8RdP_w0EfPmge0ACLcBGAs/s1600/Package-Module-Structure.png width=600>"
   ]
  },
  {
   "cell_type": "markdown",
   "metadata": {},
   "source": [
    "Crear un módulo en Python es tan sencillo como crear un script, sólo tenemos que añadir alguna función a un fichero con la extensión <code>.py</code>, por ejemplo <code>saludos.py</code>:"
   ]
  },
  {
   "cell_type": "code",
   "execution_count": null,
   "metadata": {},
   "outputs": [],
   "source": [
    "def saludar():\n",
    "    print(\"Hola, te estoy saludando desde la función saludar() \" \\\n",
    "            \"del módulo saludos\")"
   ]
  },
  {
   "cell_type": "markdown",
   "metadata": {},
   "source": [
    "Luego ya podremos utilizarlo desde otro script,por ejemplo <code>script.py</code>, en el mismo directorio haciendo un import y el nombre del módulo:"
   ]
  },
  {
   "cell_type": "code",
   "execution_count": null,
   "metadata": {},
   "outputs": [],
   "source": [
    "import saludos\n",
    "\n",
    "saludos.saludar()"
   ]
  },
  {
   "cell_type": "markdown",
   "metadata": {},
   "source": [
    "También podemos importar funciones directamente, de esta forma ahorraríamos memoria. Podemos hacerlo utilizando la sintaxis from import:"
   ]
  },
  {
   "cell_type": "code",
   "execution_count": null,
   "metadata": {},
   "outputs": [],
   "source": [
    "from saludos import saludar\n",
    "\n",
    "saludar()"
   ]
  },
  {
   "cell_type": "markdown",
   "metadata": {},
   "source": [
    "Para importar todas las funciones con la sintaxis from import debemos poner un asterisco:"
   ]
  },
  {
   "cell_type": "code",
   "execution_count": null,
   "metadata": {},
   "outputs": [],
   "source": [
    "from saludos import *\n",
    "\n",
    "saludar()"
   ]
  },
  {
   "cell_type": "markdown",
   "metadata": {},
   "source": [
    "Dicho esto, a parte de funciones también podemos reutilizar clases:\n"
   ]
  },
  {
   "cell_type": "code",
   "execution_count": null,
   "metadata": {},
   "outputs": [],
   "source": [
    "class Saludo():\n",
    "    def __init__(self):\n",
    "        print(\"Hola, te estoy saludando desde el __init__ \" \\\n",
    "                \"de la clase Saludo\")"
   ]
  },
  {
   "cell_type": "markdown",
   "metadata": {},
   "source": [
    "Igual que antes, tendremos que llamar primero al módulo para referirnos a la clase:"
   ]
  },
  {
   "cell_type": "code",
   "execution_count": null,
   "metadata": {},
   "outputs": [],
   "source": [
    "import saludos\n",
    "\n",
    "s = saludos.Saludo()"
   ]
  },
  {
   "cell_type": "markdown",
   "metadata": {},
   "source": [
    "O cargar solo una clase con el from import:"
   ]
  },
  {
   "cell_type": "code",
   "execution_count": null,
   "metadata": {},
   "outputs": [],
   "source": [
    "from saludos import Saludo\n",
    "\n",
    "s = Saludo()"
   ]
  },
  {
   "cell_type": "markdown",
   "metadata": {},
   "source": [
    "El problema ocurre cuando queremos utilizar nuestro módulo desde un directorio distinto por ejemplo test/script.py."
   ]
  },
  {
   "cell_type": "code",
   "execution_count": null,
   "metadata": {},
   "outputs": [],
   "source": []
  },
  {
   "cell_type": "code",
   "execution_count": null,
   "metadata": {},
   "outputs": [],
   "source": []
  },
  {
   "cell_type": "code",
   "execution_count": null,
   "metadata": {},
   "outputs": [],
   "source": []
  },
  {
   "cell_type": "code",
   "execution_count": null,
   "metadata": {},
   "outputs": [],
   "source": []
  },
  {
   "cell_type": "code",
   "execution_count": 3,
   "metadata": {},
   "outputs": [],
   "source": [
    "import pandas as pd\n",
    "import pyodbc as podbc"
   ]
  },
  {
   "cell_type": "code",
   "execution_count": null,
   "metadata": {},
   "outputs": [],
   "source": []
  },
  {
   "cell_type": "code",
   "execution_count": 11,
   "metadata": {},
   "outputs": [],
   "source": [
    "def conexion_sql_server(driver,server,database,username,password):\n",
    "    print(\"realizando conexion SQL\")\n",
    "    connection = podbc.connect('DRIVER='+driver+\n",
    "                                ';SERVER='+server+\n",
    "                                ';DATABASE='+database+\n",
    "                                ';UID='+username+\n",
    "                                ';PWD='+ password)\n",
    "    print(\"exito!!\")\n",
    "    return connection"
   ]
  },
  {
   "cell_type": "code",
   "execution_count": 29,
   "metadata": {},
   "outputs": [],
   "source": [
    "def select_to_df(sql_query,connection):\n",
    "       #conectando a la base de datos\n",
    "        try:\n",
    "            #pasanod info a df\n",
    "            df = pd.read_sql(sql_query, connection)\n",
    "        except Exception as e:\n",
    "            print(e)\n",
    "        #cerrando conexion\n",
    "        connection.close()\n",
    "        return df"
   ]
  },
  {
   "cell_type": "code",
   "execution_count": 25,
   "metadata": {},
   "outputs": [],
   "source": [
    "driver='{SQL Server Native Client 11.0}'\n",
    "server='localhost'\n",
    "database='db_python'\n",
    "username='gdelgadr'\n",
    "password='gdelgadr'"
   ]
  },
  {
   "cell_type": "code",
   "execution_count": 26,
   "metadata": {},
   "outputs": [
    {
     "name": "stdout",
     "output_type": "stream",
     "text": [
      "realizando conexion SQL\n",
      "exito!!\n"
     ]
    }
   ],
   "source": [
    "conexion = conexion_sql_server(driver,server,database,username,password)"
   ]
  },
  {
   "cell_type": "code",
   "execution_count": 30,
   "metadata": {},
   "outputs": [],
   "source": [
    "df = select_to_df('select * from datos',conexion)"
   ]
  },
  {
   "cell_type": "code",
   "execution_count": 31,
   "metadata": {},
   "outputs": [
    {
     "data": {
      "text/html": [
       "<div>\n",
       "<style scoped>\n",
       "    .dataframe tbody tr th:only-of-type {\n",
       "        vertical-align: middle;\n",
       "    }\n",
       "\n",
       "    .dataframe tbody tr th {\n",
       "        vertical-align: top;\n",
       "    }\n",
       "\n",
       "    .dataframe thead th {\n",
       "        text-align: right;\n",
       "    }\n",
       "</style>\n",
       "<table border=\"1\" class=\"dataframe\">\n",
       "  <thead>\n",
       "    <tr style=\"text-align: right;\">\n",
       "      <th></th>\n",
       "      <th>state</th>\n",
       "      <th>state_abbreviation</th>\n",
       "      <th>county</th>\n",
       "      <th>fips</th>\n",
       "      <th>party</th>\n",
       "      <th>candidate</th>\n",
       "      <th>votes</th>\n",
       "      <th>fraction_votes</th>\n",
       "      <th>shape</th>\n",
       "      <th>letra_estado</th>\n",
       "      <th>FIPStxt</th>\n",
       "      <th>PCTPOVALL_2015</th>\n",
       "    </tr>\n",
       "  </thead>\n",
       "  <tbody>\n",
       "    <tr>\n",
       "      <th>0</th>\n",
       "      <td>Alabama</td>\n",
       "      <td>AL</td>\n",
       "      <td>Autauga</td>\n",
       "      <td>1001.0</td>\n",
       "      <td>Democrat</td>\n",
       "      <td>Bernie Sanders</td>\n",
       "      <td>544.0</td>\n",
       "      <td>0.182</td>\n",
       "      <td>1.0</td>\n",
       "      <td>A</td>\n",
       "      <td>1001.0</td>\n",
       "      <td>12.7</td>\n",
       "    </tr>\n",
       "    <tr>\n",
       "      <th>1</th>\n",
       "      <td>Alabama</td>\n",
       "      <td>AL</td>\n",
       "      <td>Autauga</td>\n",
       "      <td>1001.0</td>\n",
       "      <td>Democrat</td>\n",
       "      <td>Hillary Clinton</td>\n",
       "      <td>2387.0</td>\n",
       "      <td>0.800</td>\n",
       "      <td>1.0</td>\n",
       "      <td>A</td>\n",
       "      <td>1001.0</td>\n",
       "      <td>12.7</td>\n",
       "    </tr>\n",
       "    <tr>\n",
       "      <th>2</th>\n",
       "      <td>Alabama</td>\n",
       "      <td>AL</td>\n",
       "      <td>Autauga</td>\n",
       "      <td>1001.0</td>\n",
       "      <td>Republican</td>\n",
       "      <td>Ben Carson</td>\n",
       "      <td>1764.0</td>\n",
       "      <td>0.146</td>\n",
       "      <td>1.0</td>\n",
       "      <td>A</td>\n",
       "      <td>1001.0</td>\n",
       "      <td>12.7</td>\n",
       "    </tr>\n",
       "    <tr>\n",
       "      <th>3</th>\n",
       "      <td>Alabama</td>\n",
       "      <td>AL</td>\n",
       "      <td>Autauga</td>\n",
       "      <td>1001.0</td>\n",
       "      <td>Republican</td>\n",
       "      <td>Donald Trump</td>\n",
       "      <td>5387.0</td>\n",
       "      <td>0.445</td>\n",
       "      <td>1.0</td>\n",
       "      <td>A</td>\n",
       "      <td>1001.0</td>\n",
       "      <td>12.7</td>\n",
       "    </tr>\n",
       "    <tr>\n",
       "      <th>4</th>\n",
       "      <td>Alabama</td>\n",
       "      <td>AL</td>\n",
       "      <td>Autauga</td>\n",
       "      <td>1001.0</td>\n",
       "      <td>Republican</td>\n",
       "      <td>John Kasich</td>\n",
       "      <td>421.0</td>\n",
       "      <td>0.035</td>\n",
       "      <td>1.0</td>\n",
       "      <td>A</td>\n",
       "      <td>1001.0</td>\n",
       "      <td>12.7</td>\n",
       "    </tr>\n",
       "  </tbody>\n",
       "</table>\n",
       "</div>"
      ],
      "text/plain": [
       "     state state_abbreviation   county    fips       party        candidate  \\\n",
       "0  Alabama                 AL  Autauga  1001.0    Democrat   Bernie Sanders   \n",
       "1  Alabama                 AL  Autauga  1001.0    Democrat  Hillary Clinton   \n",
       "2  Alabama                 AL  Autauga  1001.0  Republican       Ben Carson   \n",
       "3  Alabama                 AL  Autauga  1001.0  Republican     Donald Trump   \n",
       "4  Alabama                 AL  Autauga  1001.0  Republican      John Kasich   \n",
       "\n",
       "    votes  fraction_votes  shape letra_estado  FIPStxt  PCTPOVALL_2015  \n",
       "0   544.0           0.182    1.0            A   1001.0            12.7  \n",
       "1  2387.0           0.800    1.0            A   1001.0            12.7  \n",
       "2  1764.0           0.146    1.0            A   1001.0            12.7  \n",
       "3  5387.0           0.445    1.0            A   1001.0            12.7  \n",
       "4   421.0           0.035    1.0            A   1001.0            12.7  "
      ]
     },
     "execution_count": 31,
     "metadata": {},
     "output_type": "execute_result"
    }
   ],
   "source": [
    "df.head()"
   ]
  },
  {
   "cell_type": "code",
   "execution_count": 33,
   "metadata": {},
   "outputs": [
    {
     "data": {
      "text/plain": [
       "(17474, 12)"
      ]
     },
     "execution_count": 33,
     "metadata": {},
     "output_type": "execute_result"
    }
   ],
   "source": [
    "df.shape"
   ]
  }
 ],
 "metadata": {
  "kernelspec": {
   "display_name": "Python 3",
   "language": "python",
   "name": "python3"
  },
  "language_info": {
   "codemirror_mode": {
    "name": "ipython",
    "version": 3
   },
   "file_extension": ".py",
   "mimetype": "text/x-python",
   "name": "python",
   "nbconvert_exporter": "python",
   "pygments_lexer": "ipython3",
   "version": "3.8.5"
  }
 },
 "nbformat": 4,
 "nbformat_minor": 4
}
