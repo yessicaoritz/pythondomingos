{
 "cells": [
  {
   "cell_type": "markdown",
   "metadata": {},
   "source": [
    "# Manejo de Ficheros"
   ]
  },
  {
   "cell_type": "markdown",
   "metadata": {},
   "source": [
    "Python nos permite trabajar en dos niveles diferentes con respecto al sistema de archivos y directorios. Uno de ellos, es a través del módulo os, que como su nombre lo indica, nos facilita el trabajo con todo el sistema de archivos y directorios, a nivel del propios Sistema Operativo. El segundo nivel -más simple-, es el que nos permite trabajar con archivos, manipulando su lectura y escritura a nivel de la aplicación y tratando a cada archivo como un objeto.\n"
   ]
  },
  {
   "cell_type": "markdown",
   "metadata": {},
   "source": [
    "## Objeto File\n",
    "------------------------------"
   ]
  },
  {
   "cell_type": "markdown",
   "metadata": {},
   "source": [
    "Al igual que sucede con otras variables, manipular una de ellas como un objeto File, es posible, cuando a ésta, se le asigna como valor un archivo. \n",
    "Para asignar a una variable un valor de tipo file, solo es necesario recurrir a la función integrada open(), la cuál está destinada a la apertura de un archivo.\n",
    "\n",
    "- La función integrada open(), recibe dos parámetros: – El primero de ellos, es la ruta hacia el archivo que se desea abrir \n",
    "\n",
    "- Y el segundo, el modo en el cual abrirlo"
   ]
  },
  {
   "cell_type": "code",
   "execution_count": 1,
   "metadata": {},
   "outputs": [
    {
     "name": "stdout",
     "output_type": "stream",
     "text": [
      "['Lorem ipsum dolor sit amet, consectetur adipiscing elit. Phasellus ultricies tempus leo, nec vestibulum tellus condimentum sit amet. Quisque ut nunc erat. Praesent dolor libero, aliquet eget mi id, sollicitudin fermentum ligula. Nullam a sapien sed justo condimentum porta. Quisque hendrerit condimentum eros volutpat rhoncus. Maecenas et dictum lorem. Duis luctus diam lobortis erat finibus, ac lobortis est suscipit. Curabitur at lectus eget lorem placerat scelerisque eu ut ex. Nulla ut sollicitudin ante. Pellentesque consequat porttitor justo quis consectetur.\\n']\n"
     ]
    }
   ],
   "source": [
    "# Forma 1 de apertura a partir del método with \n",
    "with open('./src/texto.txt',mode='r') as f:\n",
    "    data= f.readlines()\n",
    "    \n",
    "    print(data[::200])\n",
    "    \n",
    "# Archivo se cierra de forma automática"
   ]
  },
  {
   "cell_type": "code",
   "execution_count": 5,
   "metadata": {},
   "outputs": [
    {
     "name": "stdout",
     "output_type": "stream",
     "text": [
      "['Lorem ipsum dolor sit amet, consectetur adipiscing elit. Phasellus ultricies tempus leo, nec vestibulum tellus condimentum sit amet. Quisque ut nunc erat. Praesent dolor libero, aliquet eget mi id, sollicitudin fermentum ligula. Nullam a sapien sed justo condimentum porta. Quisque hendrerit condimentum eros volutpat rhoncus. Maecenas et dictum lorem. Duis luctus diam lobortis erat finibus, ac lobortis est suscipit. Curabitur at lectus eget lorem placerat scelerisque eu ut ex. Nulla ut sollicitudin ante. Pellentesque consequat porttitor justo quis consectetur.\\n']\n"
     ]
    }
   ],
   "source": [
    "# Forma 2 de apertura\n",
    "f = open('./src/texto.txt')\n",
    "\n",
    "data = f.readlines() # readlines -> permite leer todas las líneas del archivo, en forma de lista\n",
    "print(data[::200])\n",
    "f.close()\n"
   ]
  },
  {
   "cell_type": "code",
   "execution_count": 6,
   "metadata": {},
   "outputs": [
    {
     "data": {
      "text/plain": [
       "True"
      ]
     },
     "execution_count": 6,
     "metadata": {},
     "output_type": "execute_result"
    }
   ],
   "source": [
    "# Valido si archivo se encuentra efectivamente cerrado\n",
    "f.closed"
   ]
  },
  {
   "cell_type": "markdown",
   "metadata": {},
   "source": [
    "### Modos de Apertura"
   ]
  },
  {
   "cell_type": "markdown",
   "metadata": {},
   "source": [
    "Por defecto un archivo se apertura en modo **lectura (r)** pero en la práctica existen muchos más modos los cuales nos permitiran escribir (w) o modificar un archivo ya existente"
   ]
  },
  {
   "cell_type": "markdown",
   "metadata": {},
   "source": [
    "<img src='./img/modo_apertura.PNG'>"
   ]
  },
  {
   "cell_type": "markdown",
   "metadata": {},
   "source": [
    "<img src='./img/modo_apertura2.PNG'>"
   ]
  },
  {
   "cell_type": "markdown",
   "metadata": {},
   "source": [
    "### Métodos de Archivos"
   ]
  },
  {
   "cell_type": "markdown",
   "metadata": {},
   "source": [
    "El objeto file, entre sus métodos más frecuentes, dispone de los siguientes"
   ]
  },
  {
   "cell_type": "markdown",
   "metadata": {},
   "source": [
    "<img src='./img/metodos_files.PNG'>"
   ]
  },
  {
   "cell_type": "markdown",
   "metadata": {},
   "source": [
    "## Lectura"
   ]
  },
  {
   "cell_type": "code",
   "execution_count": 7,
   "metadata": {},
   "outputs": [
    {
     "name": "stdout",
     "output_type": "stream",
     "text": [
      "Lorem ipsum dolor sit amet, consectetur adipiscing elit. Phasellus ultricies tempus leo, nec vestibulum tellus condimentum sit amet. Quisque ut nunc erat. Praesent dolor libero, aliquet eget mi id, sollicitudin fermentum ligula. Nullam a sapien sed justo condimentum porta. Quisque hendrerit condimentum eros volutpat rhoncus. Maecenas et dictum lorem. Duis luctus diam lobortis erat finibus, ac lobortis est suscipit. Curabitur at lectus eget lorem placerat scelerisque eu ut ex. Nulla ut sollicitudin ante. Pellentesque consequat porttitor justo quis consectetur.\n",
      "\n",
      "Donec quis dui in elit porttitor ultricies. Nunc ullamcorper non elit varius tempor. Praesent non ex vel enim laoreet semper nec non est. Integer non arcu sed erat faucibus imperdiet. Duis vel nulla leo. Nulla scelerisque sed quam vitae congue. Ut odio tortor, efficitur in turpis id, sollicitudin facilisis elit. Sed eleifend arcu orci, eleifend mattis felis sodales et. Quisque turpis libero, rhoncus non dapibus at, venenatis eget enim. Mauris fermentum faucibus commodo.\n",
      "\n",
      "Fusce non quam pulvinar, eleifend nibh eu, tristique dui. Ut et ligula consectetur, ultrices nibh id, facilisis enim. Quisque et lacinia nisl, id lacinia est. Ut pulvinar arcu ut rhoncus iaculis. Mauris lectus ligula, posuere sed augue sit amet, varius vulputate quam. Integer pharetra nibh in quam vehicula eleifend. Class aptent taciti sociosqu ad litora torquent per conubia nostra, per inceptos himenaeos. Etiam consequat fringilla feugiat. Etiam consectetur, leo ut tempor egestas, ex quam aliquam justo, a ultricies ligula turpis ut nisi. Aenean sit amet elit urna. Fusce lacus diam, luctus interdum velit non, imperdiet eleifend ipsum. Etiam efficitur et ligula ac interdum. Curabitur eget tincidunt orci. Mauris semper condimentum arcu, sit amet accumsan ante tincidunt in. Nunc felis felis, gravida nec elit sed, volutpat egestas massa.\n",
      "\n",
      "Vestibulum pulvinar vestibulum quam, id vulputate nunc faucibus ut. Vestibulum ante ipsum primis in faucibus orci luctus et ultrices posuere cubilia curae; Nam ut molestie leo. Integer in purus eleifend dui porta placerat. Nam vestibulum eros leo, et faucibus quam molestie vitae. Quisque ultricies lacus non odio condimentum rutrum. Proin sed nisl vulputate, condimentum velit vel, suscipit libero. Donec id mauris nec urna vehicula suscipit vel vel felis. Vestibulum ac hendrerit risus.\n",
      "\n",
      "Vivamus nec nunc eget erat placerat cursus. Sed auctor erat condimentum lectus euismod ullamcorper. Aenean pellentesque, elit ac sodales volutpat, sem nisl feugiat felis, sed pellentesque risus eros quis lectus. Fusce et libero condimentum elit tincidunt gravida. Pellentesque ultricies in justo id sagittis. In sit amet ornare mauris. Aenean elementum neque velit, id auctor elit blandit ac. Sed non fringilla ante. Proin id leo gravida, tempus augue id, tincidunt ipsum. Nullam mollis varius enim, in tincidunt massa laoreet eget. Mauris varius ex leo, nec malesuada est dignissim sit amet.\n"
     ]
    }
   ],
   "source": [
    "# Ruta donde leeremos el fichero, r indica lectura (por defecto ya es r)\n",
    "fichero = open('./src/texto.txt','r')  \n",
    "\n",
    "# Lectura completa\n",
    "texto = fichero.read() #  read -> Metodo que permite la lectura de todo el archivo\n",
    "\n",
    "# Cerramos el fichero\n",
    "fichero.close()  \n",
    "\n",
    "print(texto)"
   ]
  },
  {
   "cell_type": "code",
   "execution_count": null,
   "metadata": {},
   "outputs": [],
   "source": []
  },
  {
   "cell_type": "markdown",
   "metadata": {},
   "source": [
    "También se puede leer un fichero utilizando la instrucción estándar with de la siguiente forma:"
   ]
  },
  {
   "cell_type": "code",
   "execution_count": 24,
   "metadata": {},
   "outputs": [
    {
     "name": "stdout",
     "output_type": "stream",
     "text": [
      "Lorem ipsum dolor sit amet, consectetur adipiscing elit. Phasellus ultricies tempus leo, nec vestibulum tellus condimentum sit amet. Quisque ut nunc erat. Praesent dolor libero, aliquet eget mi id, sollicitudin fermentum ligula. Nullam a sapien sed justo condimentum porta. Quisque hendrerit condimentum eros volutpat rhoncus. Maecenas et dictum lorem. Duis luctus diam lobortis erat finibus, ac lobortis est suscipit. Curabitur at lectus eget lorem placerat scelerisque eu ut ex. Nulla ut sollicitudin ante. Pellentesque consequat porttitor justo quis consectetur.\n",
      "\n",
      "\n",
      "\n",
      "Donec quis dui in elit porttitor ultricies. Nunc ullamcorper non elit varius tempor. Praesent non ex vel enim laoreet semper nec non est. Integer non arcu sed erat faucibus imperdiet. Duis vel nulla leo. Nulla scelerisque sed quam vitae congue. Ut odio tortor, efficitur in turpis id, sollicitudin facilisis elit. Sed eleifend arcu orci, eleifend mattis felis sodales et. Quisque turpis libero, rhoncus non dapibus at, venenatis eget enim. Mauris fermentum faucibus commodo.\n",
      "\n",
      "\n",
      "\n",
      "Fusce non quam pulvinar, eleifend nibh eu, tristique dui. Ut et ligula consectetur, ultrices nibh id, facilisis enim. Quisque et lacinia nisl, id lacinia est. Ut pulvinar arcu ut rhoncus iaculis. Mauris lectus ligula, posuere sed augue sit amet, varius vulputate quam. Integer pharetra nibh in quam vehicula eleifend. Class aptent taciti sociosqu ad litora torquent per conubia nostra, per inceptos himenaeos. Etiam consequat fringilla feugiat. Etiam consectetur, leo ut tempor egestas, ex quam aliquam justo, a ultricies ligula turpis ut nisi. Aenean sit amet elit urna. Fusce lacus diam, luctus interdum velit non, imperdiet eleifend ipsum. Etiam efficitur et ligula ac interdum. Curabitur eget tincidunt orci. Mauris semper condimentum arcu, sit amet accumsan ante tincidunt in. Nunc felis felis, gravida nec elit sed, volutpat egestas massa.\n",
      "\n",
      "\n",
      "\n",
      "Vestibulum pulvinar vestibulum quam, id vulputate nunc faucibus ut. Vestibulum ante ipsum primis in faucibus orci luctus et ultrices posuere cubilia curae; Nam ut molestie leo. Integer in purus eleifend dui porta placerat. Nam vestibulum eros leo, et faucibus quam molestie vitae. Quisque ultricies lacus non odio condimentum rutrum. Proin sed nisl vulputate, condimentum velit vel, suscipit libero. Donec id mauris nec urna vehicula suscipit vel vel felis. Vestibulum ac hendrerit risus.\n",
      "\n",
      "\n",
      "\n",
      "Vivamus nec nunc eget erat placerat cursus. Sed auctor erat condimentum lectus euismod ullamcorper. Aenean pellentesque, elit ac sodales volutpat, sem nisl feugiat felis, sed pellentesque risus eros quis lectus. Fusce et libero condimentum elit tincidunt gravida. Pellentesque ultricies in justo id sagittis. In sit amet ornare mauris. Aenean elementum neque velit, id auctor elit blandit ac. Sed non fringilla ante. Proin id leo gravida, tempus augue id, tincidunt ipsum. Nullam mollis varius enim, in tincidunt massa laoreet eget. Mauris varius ex leo, nec malesuada est dignissim sit amet.\n"
     ]
    }
   ],
   "source": [
    "with open('./src/texto.txt', \"r\") as fichero:\n",
    "    for linea in fichero:\n",
    "        print(linea)"
   ]
  },
  {
   "cell_type": "markdown",
   "metadata": {},
   "source": [
    "## Escritura"
   ]
  },
  {
   "cell_type": "code",
   "execution_count": 8,
   "metadata": {},
   "outputs": [],
   "source": [
    "texto = \"Una línea con texto\\nOtra línea con texto\"\n",
    "\n",
    "# Ruta donde crearemos el fichero, w indica escritura (puntero al principio)\n",
    "# De existir el archivo, este será eliminado y creado uno nuevo \n",
    "with open('./src/fichero.txt','w') as f:\n",
    "    # Escribimos el texto\n",
    "    f.write(texto)"
   ]
  },
  {
   "cell_type": "code",
   "execution_count": 9,
   "metadata": {},
   "outputs": [],
   "source": [
    "with open('./src/fichero.txt','r') as f:\n",
    "    # Escribimos el texto\n",
    "    data = f.readlines()"
   ]
  },
  {
   "cell_type": "code",
   "execution_count": 11,
   "metadata": {},
   "outputs": [
    {
     "data": {
      "text/plain": [
       "['Una línea con texto\\n', 'Otra línea con texto']"
      ]
     },
     "execution_count": 11,
     "metadata": {},
     "output_type": "execute_result"
    }
   ],
   "source": [
    "data"
   ]
  },
  {
   "cell_type": "markdown",
   "metadata": {},
   "source": [
    "Este modo nos permite añadir datos al final de un fichero:"
   ]
  },
  {
   "cell_type": "code",
   "execution_count": 12,
   "metadata": {},
   "outputs": [],
   "source": [
    "# Ruta donde leeremos el fichero, a indica extensión (puntero al final)\n",
    "with open('./src/fichero.txt','a') as f:\n",
    "    f.write('\\nOtra línea más abajo del todo')"
   ]
  },
  {
   "cell_type": "markdown",
   "metadata": {},
   "source": [
    "La variante 'a+' permite crear el fichero si no existe:"
   ]
  },
  {
   "cell_type": "code",
   "execution_count": 14,
   "metadata": {},
   "outputs": [],
   "source": [
    "# Ruta archivo del tipo a+\n",
    "with open('fichero_inventado.txt','a+') as f:\n",
    "    f.write('\\nhola mundo')\n",
    "    pass"
   ]
  },
  {
   "cell_type": "markdown",
   "metadata": {},
   "source": [
    "## Lectura con escritura"
   ]
  },
  {
   "cell_type": "markdown",
   "metadata": {},
   "source": [
    "Se puede abrir un fichero en modo lectura con escritura, pero éste debe existir préviamente. Además por defecto el puntero estará al principio y si escribimos algo sobreescribiremos el contenido actual, así que prestad atención a los saltos de línea y caracteres especiales:\n"
   ]
  },
  {
   "cell_type": "code",
   "execution_count": 15,
   "metadata": {},
   "outputs": [],
   "source": [
    "# Creamos un fichero de prueba con 4 líneas\n",
    "fichero = open('fichero2.txt','w')\n",
    "texto = \"Línea 1\\nLínea 2\\nLínea 3\\nLínea 4\"\n",
    "fichero.write(texto)\n",
    "fichero.close()"
   ]
  },
  {
   "cell_type": "code",
   "execution_count": 18,
   "metadata": {},
   "outputs": [
    {
     "data": {
      "text/plain": [
       "7"
      ]
     },
     "execution_count": 18,
     "metadata": {},
     "output_type": "execute_result"
    }
   ],
   "source": [
    "# Lo abrimos en lectura con escritura y escribimos algo\n",
    "fichero = open('fichero2.txt','r+')\n",
    "fichero.write(\"0123456\")\n"
   ]
  },
  {
   "cell_type": "code",
   "execution_count": 17,
   "metadata": {},
   "outputs": [],
   "source": [
    "fichero.close()"
   ]
  },
  {
   "cell_type": "code",
   "execution_count": 19,
   "metadata": {},
   "outputs": [],
   "source": [
    "# Volvemos a ponter el puntero al inicio y leemos hasta el final\n",
    "fichero.seek(0)\n",
    "fichero.read()\n",
    "fichero.close()"
   ]
  },
  {
   "cell_type": "markdown",
   "metadata": {},
   "source": [
    "### Modificar una línea"
   ]
  },
  {
   "cell_type": "markdown",
   "metadata": {},
   "source": [
    "Para lograr este fin lo mejor es leer todas las líneas en una lista, modificar la línea en la lista, posicionar el puntero al principio y reescribir de nuevo todas las líneas:\n"
   ]
  },
  {
   "cell_type": "code",
   "execution_count": 20,
   "metadata": {},
   "outputs": [
    {
     "name": "stdout",
     "output_type": "stream",
     "text": [
      "0123456\n",
      "Línea 2\n",
      "Esta es la línea 3 modificada\n",
      "Línea 4\n"
     ]
    }
   ],
   "source": [
    "fichero = open('fichero2.txt','r+')\n",
    "texto = fichero.readlines()\n",
    "\n",
    "# Modificamos la línea que queramos a partir del índice\n",
    "texto[2] = \"Esta es la línea 3 modificada\\n\"\n",
    "\n",
    "# Volvemos a ponter el puntero al inicio y reescribimos\n",
    "fichero.seek(0)\n",
    "fichero.writelines(texto)\n",
    "fichero.close()\n",
    "\n",
    "# Leemos el fichero de nuevo\n",
    "with open(\"fichero2.txt\", \"r\") as fichero:\n",
    "    print(fichero.read())"
   ]
  },
  {
   "cell_type": "markdown",
   "metadata": {},
   "source": [
    "### <a href='https://docs.python.org/2.4/lib/standard-encodings.html'>Encoding</a>"
   ]
  },
  {
   "cell_type": "markdown",
   "metadata": {},
   "source": [
    "**encoding** es el nombre de la codificación utilizada para decodificar o codificar el archivo. Esto solo debe usarse en modo texto. La codificación predeterminada es dependiente de la plataforma, pero cualquier codificación compatible con Python se puede utilizar."
   ]
  },
  {
   "cell_type": "markdown",
   "metadata": {},
   "source": [
    "Más conocidos:\n",
    "\n",
    "- utf-8\n",
    "- latin1\n",
    "- ascii\n"
   ]
  },
  {
   "cell_type": "markdown",
   "metadata": {},
   "source": [
    "#### Lectura sin encoding con texto español\n",
    "\n",
    "\n"
   ]
  },
  {
   "cell_type": "code",
   "execution_count": 21,
   "metadata": {},
   "outputs": [
    {
     "name": "stdout",
     "output_type": "stream",
     "text": [
      "este es un texto con caracteres en espaÃ±ol\n"
     ]
    }
   ],
   "source": [
    "with open('./src/fichero_esp.txt') as f:\n",
    "    texto = f.read()\n",
    "    print(texto)"
   ]
  },
  {
   "cell_type": "markdown",
   "metadata": {},
   "source": [
    "#### Lectura con encoding utf-8"
   ]
  },
  {
   "cell_type": "code",
   "execution_count": 22,
   "metadata": {},
   "outputs": [
    {
     "name": "stdout",
     "output_type": "stream",
     "text": [
      "este es un texto con caracteres en español\n"
     ]
    }
   ],
   "source": [
    "with open('./src/fichero_esp.txt',encoding='utf-8') as f:\n",
    "    texto = f.read()\n",
    "    print(texto)"
   ]
  },
  {
   "cell_type": "markdown",
   "metadata": {},
   "source": [
    "# EJERCICIOS\n",
    "----------------------------"
   ]
  },
  {
   "cell_type": "markdown",
   "metadata": {},
   "source": [
    "<h3>1.</h3>\n",
    "\n",
    "En este ejercicio deberás crear un script llamado <code>personas.py</code> que lea los datos de un fichero de texto, que transforme cada fila en un diccionario y lo añada a una lista llamada personas. Luego rocorre las personas de la lista y paracada una muestra de forma amigable todos sus campos.\n",
    "\n",
    "El fichero de texto se denominará <code>personas.txt</code> y tendrá el siguiente contenido en texto plano (créalo previamente):"
   ]
  },
  {
   "cell_type": "markdown",
   "metadata": {},
   "source": [
    "<code>1;Carlos;Pérez;05/01/1989\n",
    "2;Manuel;Heredia;26/12/1973\n",
    "3;Rosa;Campos;12/06/1961\n",
    "4;David;García;25/07/2006</code>"
   ]
  },
  {
   "cell_type": "code",
   "execution_count": null,
   "metadata": {},
   "outputs": [],
   "source": [
    "ruta_relativa = '/src/persona.txt'\n",
    "ruta_absoluta =\n",
    "\n",
    "with = open(ruta_relativa, mode='r', encodig='utf-8') as f:\n",
    "    lineas= f.readlines() #\n"
   ]
  },
  {
   "cell_type": "code",
   "execution_count": null,
   "metadata": {},
   "outputs": [],
   "source": []
  }
 ],
 "metadata": {
  "kernelspec": {
   "display_name": "Python 3",
   "language": "python",
   "name": "python3"
  },
  "language_info": {
   "codemirror_mode": {
    "name": "ipython",
    "version": 3
   },
   "file_extension": ".py",
   "mimetype": "text/x-python",
   "name": "python",
   "nbconvert_exporter": "python",
   "pygments_lexer": "ipython3",
   "version": "3.8.5"
  }
 },
 "nbformat": 4,
 "nbformat_minor": 4
}
